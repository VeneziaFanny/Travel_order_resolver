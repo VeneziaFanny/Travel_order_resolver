{
 "cells": [
  {
   "cell_type": "markdown",
   "metadata": {},
   "source": [
    "### CamemBERT"
   ]
  },
  {
   "cell_type": "markdown",
   "metadata": {},
   "source": [
    "Fine tune modèle camembert\n",
    "\n",
    "Deuxième modèle qui fait NER et trouve les entités de lieu"
   ]
  },
  {
   "cell_type": "markdown",
   "metadata": {},
   "source": [
    "#### Imports"
   ]
  },
  {
   "cell_type": "code",
   "execution_count": 36,
   "metadata": {},
   "outputs": [],
   "source": [
    "import pandas as pd\n",
    "\n",
    "from transformers import CamembertTokenizer, Trainer, TrainingArguments, AutoModelForSequenceClassification, TrainerCallback, EarlyStoppingCallback, AutoTokenizer\n",
    "import torch\n",
    "from torch.utils.data import Dataset, random_split\n",
    "\n",
    "from sklearn.metrics import confusion_matrix, ConfusionMatrixDisplay, f1_score, recall_score, precision_score\n",
    "import matplotlib.pyplot as plt\n",
    "import numpy as np\n",
    "\n",
    "import random"
   ]
  },
  {
   "cell_type": "markdown",
   "metadata": {},
   "source": [
    "#### Création du dataset de TRAIN"
   ]
  },
  {
   "cell_type": "code",
   "execution_count": 37,
   "metadata": {},
   "outputs": [
    {
     "name": "stdout",
     "output_type": "stream",
     "text": [
      "Valeurs manquantes avant traitement :\n",
      "sentence    0\n",
      "label       0\n",
      "dtype: int64\n",
      "label\n",
      "1    2000\n",
      "0    2000\n",
      "Name: count, dtype: int64\n",
      "(4000, 2)\n"
     ]
    }
   ],
   "source": [
    "df_valid = pd.read_csv('valid_sentences_train_dataset.csv')\n",
    "df_invalid = pd.read_csv('invalid_sentences_train_dataset.csv')\n",
    "\n",
    "df_combined = pd.concat([df_valid, df_invalid], ignore_index=True)\n",
    "\n",
    "print(\"Valeurs manquantes avant traitement :\")\n",
    "print(df_combined.isnull().sum())\n",
    "\n",
    "train_sentences = df_combined['sentence'].tolist()\n",
    "train_labels = df_combined['label'].tolist()\n",
    "\n",
    "print(df_combined['label'].value_counts())\n",
    "print(df_combined.shape)"
   ]
  },
  {
   "cell_type": "markdown",
   "metadata": {},
   "source": [
    "#### Création du dataset de TEST"
   ]
  },
  {
   "cell_type": "code",
   "execution_count": 38,
   "metadata": {},
   "outputs": [
    {
     "name": "stdout",
     "output_type": "stream",
     "text": [
      "Valeurs manquantes avant traitement :\n",
      "sentence    0\n",
      "label       0\n",
      "dtype: int64\n",
      "label\n",
      "1    500\n",
      "0    500\n",
      "Name: count, dtype: int64\n",
      "(1000, 2)\n"
     ]
    }
   ],
   "source": [
    "df_valid = pd.read_csv('valid_sentences_test_dataset.csv')\n",
    "df_invalid = pd.read_csv('invalid_sentences_test_dataset.csv')\n",
    "\n",
    "df_combined = pd.concat([df_valid, df_invalid], ignore_index=True)\n",
    "\n",
    "print(\"Valeurs manquantes avant traitement :\")\n",
    "print(df_combined.isnull().sum())\n",
    "\n",
    "test_sentences = df_combined['sentence'].tolist()\n",
    "test_labels = df_combined['label'].tolist()\n",
    "\n",
    "print(df_combined['label'].value_counts())\n",
    "print(df_combined.shape)"
   ]
  },
  {
   "cell_type": "code",
   "execution_count": 39,
   "metadata": {},
   "outputs": [
    {
     "name": "stdout",
     "output_type": "stream",
     "text": [
      "I need to go to Jeuxey from Saint-Sauvant\n",
      "À La Haute-Maison, j'ai visité une magnifique cave à vin.\n",
      "Quel est le prochain train pour Grumesnil ?\n",
      "Quel est le prochain train ?\n",
      "Comment aller à Sainte-Ouenne, en passant par Haut-Lieu, depuis Sivry ?\n",
      "Comment puis-je aller à Asnières-en-Montagne ?\n",
      "De Nieulle-sur-Seudre, je me rendrai à Vougrey en passant par Claix.\n",
      "Voyage de Pexiora à Gonfreville-l'Orcher avec un arrêt à Chisa.\n",
      "J'ai prévu de prendre le train à Saint-Mard pour aller à Villard-Léger.\n",
      "Comment puis-je me rendre de Saint-André à Saint-Quay-Portrieux ?\n",
      "Je pars de Annequin pour aller à Nostang, avec un arrêt à Gruchet-le-Valasse.\n",
      "Aller de Beaulieu-en-Argonne à Avenay-Val-d'Or via Brassy.\n",
      "Je cherche un billet.\n",
      "Le château de Saint-Palais-du-Né est un chef-d'œuvre de la Renaissance.\n",
      "Je voudrais un billet de Saint-Romain-le-Noble à Saulzais-le-Potier.\n",
      "Y a-t-il des trains demain ?\n",
      "J'ai prévu de prendre le train à Saverdun pour aller à Ferrières.\n",
      "I would like a ticket to Saint-Victor-l'Abbaye from Arcangues\n",
      "Je veux aller de.\n",
      "Je souhaite réserver un billet de.\n"
     ]
    }
   ],
   "source": [
    "random_indices = random.sample(range(len(train_sentences)), 20)\n",
    "\n",
    "for idx in random_indices:\n",
    "    print(train_sentences[idx])"
   ]
  },
  {
   "cell_type": "markdown",
   "metadata": {},
   "source": [
    "#### Les modèles"
   ]
  },
  {
   "cell_type": "markdown",
   "metadata": {},
   "source": [
    "##### Model Camembert Base"
   ]
  },
  {
   "cell_type": "code",
   "execution_count": 40,
   "metadata": {},
   "outputs": [],
   "source": [
    "# charge le tokenizer pré-entraîné pour le modèle camembert-base\n",
    "tokenizer = CamembertTokenizer.from_pretrained('camembert-base')"
   ]
  },
  {
   "cell_type": "markdown",
   "metadata": {},
   "source": [
    "##### Model Distil Camembert\n",
    "\n",
    "The aim of distillation is to drastically reduce the complexity of the model while preserving the performances."
   ]
  },
  {
   "cell_type": "code",
   "execution_count": 41,
   "metadata": {},
   "outputs": [],
   "source": [
    "# charge le tokenizer pré-entraîné pour le modèle distilcamembert-base\n",
    "# tokenizer = CamembertTokenizer.from_pretrained(\"cmarkea/distilcamembert-base\")\n",
    "\n",
    "# tokenizer roberta-base\n",
    "tokenizer = AutoTokenizer.from_pretrained(\"roberta-base\")"
   ]
  },
  {
   "cell_type": "markdown",
   "metadata": {},
   "source": [
    "#### Classe pour créer un dataset personnalisé"
   ]
  },
  {
   "cell_type": "code",
   "execution_count": 42,
   "metadata": {},
   "outputs": [],
   "source": [
    "class CustomDataset(Dataset):\n",
    "    def __init__(self, sentences, labels, tokenizer, max_length=128):\n",
    "        self.sentences = sentences\n",
    "        self.labels = labels\n",
    "        self.tokenizer = tokenizer\n",
    "        self.max_length = max_length\n",
    "\n",
    "    def __len__(self):\n",
    "        return len(self.sentences)\n",
    "\n",
    "    def __getitem__(self, idx):\n",
    "        sentence = self.sentences[idx]\n",
    "        label = self.labels[idx]\n",
    "        encoding = self.tokenizer(sentence, truncation=True, padding='max_length', max_length=self.max_length, return_tensors='pt')\n",
    "        item = {key: val.squeeze() for key, val in encoding.items()}\n",
    "        item['labels'] = torch.tensor(label)\n",
    "        return item"
   ]
  },
  {
   "cell_type": "markdown",
   "metadata": {},
   "source": [
    "#### Création des datasets d'entraînement et de test"
   ]
  },
  {
   "cell_type": "code",
   "execution_count": 43,
   "metadata": {},
   "outputs": [],
   "source": [
    "# préparer les datasets d'entraînement et de test\n",
    "train_dataset = CustomDataset(train_sentences, train_labels, tokenizer)\n",
    "test_dataset = CustomDataset(test_sentences, test_labels, tokenizer)"
   ]
  },
  {
   "cell_type": "markdown",
   "metadata": {},
   "source": [
    "#### Entraînement du modèle"
   ]
  },
  {
   "cell_type": "code",
   "execution_count": 44,
   "metadata": {},
   "outputs": [],
   "source": [
    "training_args = TrainingArguments(\n",
    "    output_dir='./results',\n",
    "    learning_rate=1e-5,\n",
    "    per_device_train_batch_size=32,\n",
    "    per_device_eval_batch_size=32,\n",
    "    num_train_epochs=3,\n",
    "    weight_decay=0.01,\n",
    "    eval_strategy=\"epoch\",\n",
    "    save_strategy=\"epoch\",\n",
    "    load_best_model_at_end=True,\n",
    "    logging_steps=10,\n",
    "    save_total_limit=1,\n",
    ")"
   ]
  },
  {
   "cell_type": "code",
   "execution_count": 45,
   "metadata": {},
   "outputs": [],
   "source": [
    "def compute_metrics(pred):\n",
    "    labels = pred.label_ids\n",
    "    preds = pred.predictions.argmax(-1)\n",
    "    f1 = f1_score(labels, preds, average='weighted')\n",
    "    recall = recall_score(labels, preds, average='weighted')\n",
    "    precision = precision_score(labels, preds, average='weighted')\n",
    "    return {\n",
    "        'f1': f1,\n",
    "        'recall': recall,\n",
    "        'precision': precision,\n",
    "    }"
   ]
  },
  {
   "cell_type": "code",
   "execution_count": 46,
   "metadata": {},
   "outputs": [
    {
     "name": "stderr",
     "output_type": "stream",
     "text": [
      "Some weights of RobertaForSequenceClassification were not initialized from the model checkpoint at roberta-base and are newly initialized: ['classifier.dense.bias', 'classifier.dense.weight', 'classifier.out_proj.bias', 'classifier.out_proj.weight']\n",
      "You should probably TRAIN this model on a down-stream task to be able to use it for predictions and inference.\n"
     ]
    }
   ],
   "source": [
    "# model distil camambert\n",
    "model = AutoModelForSequenceClassification.from_pretrained(\"cmarkea/distilcamembert-base\", num_labels=2)\n",
    "\n",
    "# model roberta\n",
    "model = AutoModelForSequenceClassification.from_pretrained(\"roberta-base\", num_labels=2)"
   ]
  },
  {
   "cell_type": "code",
   "execution_count": 47,
   "metadata": {},
   "outputs": [],
   "source": [
    "train_loss = []\n",
    "eval_loss = []\n",
    "\n",
    "class LossCallback(TrainerCallback):\n",
    "    def on_log(self, args, state, control, logs=None, **kwargs):\n",
    "        if logs is not None:\n",
    "            if 'loss' in logs:\n",
    "                train_loss.append(logs['loss'])\n",
    "            if 'eval_loss' in logs:\n",
    "                eval_loss.append(logs['eval_loss'])"
   ]
  },
  {
   "cell_type": "code",
   "execution_count": 48,
   "metadata": {},
   "outputs": [
    {
     "name": "stderr",
     "output_type": "stream",
     "text": [
      "You are adding a <class '__main__.LossCallback'> to the callbacks of this Trainer, but there is already one. The currentlist of callbacks is\n",
      ":DefaultFlowCallback\n",
      "TensorBoardCallback\n",
      "LossCallback\n",
      "EarlyStoppingCallback\n",
      "ProgressCallback\n"
     ]
    }
   ],
   "source": [
    "trainer = Trainer(\n",
    "    model=model,\n",
    "    args=training_args,\n",
    "    train_dataset=train_dataset,\n",
    "    eval_dataset=test_dataset,\n",
    "    compute_metrics=compute_metrics,\n",
    "    callbacks=[LossCallback(), EarlyStoppingCallback(early_stopping_patience=3)]\n",
    ")\n",
    "\n",
    "loss_callback = LossCallback()\n",
    "trainer.add_callback(loss_callback)"
   ]
  },
  {
   "cell_type": "code",
   "execution_count": 49,
   "metadata": {},
   "outputs": [],
   "source": [
    "# Validation curve taille du dataset\n",
    "# # Enregistrer les pertes d'entraînement et d'évaluation\n",
    "# train_sizes = [6000, len(train_dataset)]\n",
    "# train_loss = []\n",
    "# eval_loss = []\n",
    "\n",
    "# class LossCallback(TrainerCallback):\n",
    "#     def __init__(self):\n",
    "#         super().__init__()\n",
    "#         self.train_loss = []\n",
    "#         self.eval_loss = []\n",
    "\n",
    "#     def on_log(self, args, state, control, logs=None, **kwargs):\n",
    "#         if logs is not None:\n",
    "#             if 'loss' in logs:\n",
    "#                 self.train_loss.append(logs['loss'])\n",
    "#             if 'eval_loss' in logs:\n",
    "#                 self.eval_loss.append(logs['eval_loss'])"
   ]
  },
  {
   "cell_type": "code",
   "execution_count": 71,
   "metadata": {},
   "outputs": [],
   "source": [
    "# for train_size in train_sizes:\n",
    "#     # Diviser les données d'entraînement\n",
    "#     subset_train_dataset, _ = random_split(train_dataset, [train_size, len(train_dataset) - train_size])\n",
    "    \n",
    "#     # Définir le trainer\n",
    "#     trainer = Trainer(\n",
    "#         model=model,\n",
    "#         args=training_args,\n",
    "#         train_dataset=subset_train_dataset,\n",
    "#         eval_dataset=test_dataset,\n",
    "#         compute_metrics=compute_metrics\n",
    "#     )\n",
    "    \n",
    "#     # Ajouter le callback pour enregistrer les pertes\n",
    "#     loss_callback = LossCallback()\n",
    "#     trainer.add_callback(loss_callback)\n",
    "    \n",
    "#     # Entraîner le modèle\n",
    "#     trainer.train()\n",
    "    \n",
    "#     # Évaluer le modèle\n",
    "#     eval_result = trainer.evaluate()\n",
    "    \n",
    "#     # Enregistrer les pertes\n",
    "#     train_loss.append(loss_callback.train_loss[-1])\n",
    "#     eval_loss.append(eval_result['eval_loss'])"
   ]
  },
  {
   "cell_type": "code",
   "execution_count": 51,
   "metadata": {},
   "outputs": [
    {
     "data": {
      "application/vnd.jupyter.widget-view+json": {
       "model_id": "1c230a0bda0c450b8fc1cb4198d99f5c",
       "version_major": 2,
       "version_minor": 0
      },
      "text/plain": [
       "  0%|          | 0/375 [00:00<?, ?it/s]"
      ]
     },
     "metadata": {},
     "output_type": "display_data"
    },
    {
     "name": "stdout",
     "output_type": "stream",
     "text": [
      "{'loss': 0.7033, 'grad_norm': 0.7918808460235596, 'learning_rate': 9.733333333333334e-06, 'epoch': 0.08}\n",
      "{'loss': 0.6785, 'grad_norm': 1.7575401067733765, 'learning_rate': 9.466666666666667e-06, 'epoch': 0.16}\n",
      "{'loss': 0.5795, 'grad_norm': 5.455897331237793, 'learning_rate': 9.200000000000002e-06, 'epoch': 0.24}\n",
      "{'loss': 0.4465, 'grad_norm': 7.588300704956055, 'learning_rate': 8.933333333333333e-06, 'epoch': 0.32}\n",
      "{'loss': 0.2247, 'grad_norm': 7.117885112762451, 'learning_rate': 8.666666666666668e-06, 'epoch': 0.4}\n",
      "{'loss': 0.138, 'grad_norm': 12.063962936401367, 'learning_rate': 8.400000000000001e-06, 'epoch': 0.48}\n",
      "{'loss': 0.0754, 'grad_norm': 5.762347221374512, 'learning_rate': 8.133333333333334e-06, 'epoch': 0.56}\n",
      "{'loss': 0.0501, 'grad_norm': 9.858536720275879, 'learning_rate': 7.866666666666667e-06, 'epoch': 0.64}\n",
      "{'loss': 0.0198, 'grad_norm': 0.9249831438064575, 'learning_rate': 7.600000000000001e-06, 'epoch': 0.72}\n",
      "{'loss': 0.0038, 'grad_norm': 0.2577565908432007, 'learning_rate': 7.333333333333333e-06, 'epoch': 0.8}\n",
      "{'loss': 0.0159, 'grad_norm': 0.11177432537078857, 'learning_rate': 7.066666666666667e-06, 'epoch': 0.88}\n",
      "{'loss': 0.0023, 'grad_norm': 0.040055256336927414, 'learning_rate': 6.800000000000001e-06, 'epoch': 0.96}\n"
     ]
    },
    {
     "data": {
      "application/vnd.jupyter.widget-view+json": {
       "model_id": "566ae2a58c7d43999f40f4c66259cc10",
       "version_major": 2,
       "version_minor": 0
      },
      "text/plain": [
       "  0%|          | 0/32 [00:00<?, ?it/s]"
      ]
     },
     "metadata": {},
     "output_type": "display_data"
    },
    {
     "name": "stdout",
     "output_type": "stream",
     "text": [
      "{'eval_loss': 0.8371591567993164, 'eval_f1': 0.8706366182606944, 'eval_recall': 0.871, 'eval_precision': 0.8752159261461785, 'eval_runtime': 65.51, 'eval_samples_per_second': 15.265, 'eval_steps_per_second': 0.488, 'epoch': 1.0}\n",
      "{'loss': 0.0154, 'grad_norm': 0.6741790175437927, 'learning_rate': 6.533333333333334e-06, 'epoch': 1.04}\n",
      "{'loss': 0.0252, 'grad_norm': 0.026616862043738365, 'learning_rate': 6.266666666666668e-06, 'epoch': 1.12}\n",
      "{'loss': 0.0183, 'grad_norm': 0.0218728706240654, 'learning_rate': 6e-06, 'epoch': 1.2}\n",
      "{'loss': 0.0017, 'grad_norm': 0.02130286395549774, 'learning_rate': 5.733333333333334e-06, 'epoch': 1.28}\n",
      "{'loss': 0.0008, 'grad_norm': 0.020386952906847, 'learning_rate': 5.466666666666667e-06, 'epoch': 1.36}\n",
      "{'loss': 0.0014, 'grad_norm': 0.023128265514969826, 'learning_rate': 5.2e-06, 'epoch': 1.44}\n",
      "{'loss': 0.0016, 'grad_norm': 0.021605098620057106, 'learning_rate': 4.933333333333334e-06, 'epoch': 1.52}\n",
      "{'loss': 0.0007, 'grad_norm': 0.15017740428447723, 'learning_rate': 4.666666666666667e-06, 'epoch': 1.6}\n",
      "{'loss': 0.0006, 'grad_norm': 0.015527610667049885, 'learning_rate': 4.4e-06, 'epoch': 1.68}\n",
      "{'loss': 0.0006, 'grad_norm': 0.011668924242258072, 'learning_rate': 4.133333333333333e-06, 'epoch': 1.76}\n",
      "{'loss': 0.0006, 'grad_norm': 0.020576700568199158, 'learning_rate': 3.866666666666667e-06, 'epoch': 1.84}\n",
      "{'loss': 0.0011, 'grad_norm': 0.01163200382143259, 'learning_rate': 3.6000000000000003e-06, 'epoch': 1.92}\n",
      "{'loss': 0.0006, 'grad_norm': 0.013310960493981838, 'learning_rate': 3.3333333333333333e-06, 'epoch': 2.0}\n"
     ]
    },
    {
     "data": {
      "application/vnd.jupyter.widget-view+json": {
       "model_id": "8921a3dd42fc45e9902167abac416816",
       "version_major": 2,
       "version_minor": 0
      },
      "text/plain": [
       "  0%|          | 0/32 [00:00<?, ?it/s]"
      ]
     },
     "metadata": {},
     "output_type": "display_data"
    },
    {
     "name": "stdout",
     "output_type": "stream",
     "text": [
      "{'eval_loss': 0.8164201378822327, 'eval_f1': 0.8989465427210995, 'eval_recall': 0.899, 'eval_precision': 0.8998460742932044, 'eval_runtime': 62.4417, 'eval_samples_per_second': 16.015, 'eval_steps_per_second': 0.512, 'epoch': 2.0}\n",
      "{'loss': 0.0005, 'grad_norm': 0.011160927824676037, 'learning_rate': 3.066666666666667e-06, 'epoch': 2.08}\n",
      "{'loss': 0.0012, 'grad_norm': 0.010154305957257748, 'learning_rate': 2.8000000000000003e-06, 'epoch': 2.16}\n",
      "{'loss': 0.0005, 'grad_norm': 0.012060857377946377, 'learning_rate': 2.5333333333333338e-06, 'epoch': 2.24}\n",
      "{'loss': 0.0176, 'grad_norm': 0.01020019594579935, 'learning_rate': 2.266666666666667e-06, 'epoch': 2.32}\n",
      "{'loss': 0.0005, 'grad_norm': 0.011150924488902092, 'learning_rate': 2.0000000000000003e-06, 'epoch': 2.4}\n",
      "{'loss': 0.0223, 'grad_norm': 0.011556720361113548, 'learning_rate': 1.7333333333333336e-06, 'epoch': 2.48}\n",
      "{'loss': 0.0006, 'grad_norm': 0.0107249915599823, 'learning_rate': 1.4666666666666669e-06, 'epoch': 2.56}\n",
      "{'loss': 0.0004, 'grad_norm': 0.010059275664389133, 'learning_rate': 1.2000000000000002e-06, 'epoch': 2.64}\n",
      "{'loss': 0.0005, 'grad_norm': 0.009105656296014786, 'learning_rate': 9.333333333333334e-07, 'epoch': 2.72}\n",
      "{'loss': 0.0005, 'grad_norm': 0.010546193458139896, 'learning_rate': 6.666666666666667e-07, 'epoch': 2.8}\n",
      "{'loss': 0.0005, 'grad_norm': 0.011199935339391232, 'learning_rate': 4.0000000000000003e-07, 'epoch': 2.88}\n",
      "{'loss': 0.0004, 'grad_norm': 0.009345131926238537, 'learning_rate': 1.3333333333333336e-07, 'epoch': 2.96}\n"
     ]
    },
    {
     "data": {
      "application/vnd.jupyter.widget-view+json": {
       "model_id": "a219a4160e0b499fb3ea0761e4a15e58",
       "version_major": 2,
       "version_minor": 0
      },
      "text/plain": [
       "  0%|          | 0/32 [00:00<?, ?it/s]"
      ]
     },
     "metadata": {},
     "output_type": "display_data"
    },
    {
     "name": "stdout",
     "output_type": "stream",
     "text": [
      "{'eval_loss': 0.9942201972007751, 'eval_f1': 0.86939608750864, 'eval_recall': 0.87, 'eval_precision': 0.8769724830464266, 'eval_runtime': 64.5444, 'eval_samples_per_second': 15.493, 'eval_steps_per_second': 0.496, 'epoch': 3.0}\n",
      "{'train_runtime': 2831.1841, 'train_samples_per_second': 4.239, 'train_steps_per_second': 0.132, 'train_loss': 0.08138997226705154, 'epoch': 3.0}\n"
     ]
    },
    {
     "data": {
      "text/plain": [
       "TrainOutput(global_step=375, training_loss=0.08138997226705154, metrics={'train_runtime': 2831.1841, 'train_samples_per_second': 4.239, 'train_steps_per_second': 0.132, 'total_flos': 789333166080000.0, 'train_loss': 0.08138997226705154, 'epoch': 3.0})"
      ]
     },
     "execution_count": 51,
     "metadata": {},
     "output_type": "execute_result"
    }
   ],
   "source": [
    "trainer.train()"
   ]
  },
  {
   "cell_type": "code",
   "execution_count": 52,
   "metadata": {},
   "outputs": [],
   "source": [
    "plt.figure(figsize=(10, 5))\n",
    "plt.plot(train_sizes, train_loss, label='Training Loss')\n",
    "plt.plot(train_sizes, eval_loss, label='Validation Loss')\n",
    "plt.xlabel('Training Data Size')\n",
    "plt.ylabel('Loss')\n",
    "plt.legend()\n",
    "plt.title('Learning Curve')\n",
    "plt.show()"
   ]
  },
  {
   "cell_type": "code",
   "execution_count": null,
   "metadata": {},
   "outputs": [
    {
     "data": {
      "application/vnd.jupyter.widget-view+json": {
       "model_id": "2661e05327ea41a496d77309a7c27b05",
       "version_major": 2,
       "version_minor": 0
      },
      "text/plain": [
       "  0%|          | 0/32 [00:00<?, ?it/s]"
      ]
     },
     "metadata": {},
     "output_type": "display_data"
    },
    {
     "data": {
      "image/png": "[encoded data removed]",
      "text/plain": [
       "<Figure size 1000x500 with 1 Axes>"
      ]
     },
     "metadata": {},
     "output_type": "display_data"
    }
   ],
   "source": [
    "eval_result = trainer.evaluate()\n",
    "\n",
    "plt.figure(figsize=(10, 5))\n",
    "plt.plot(train_loss, label='Training Loss')\n",
    "plt.plot(eval_loss, label='Validation Loss')\n",
    "plt.xlabel('Epoch')\n",
    "plt.ylabel('Loss')\n",
    "plt.legend()\n",
    "plt.title('Learning Curve')\n",
    "plt.show()"
   ]
  },
  {
   "cell_type": "code",
   "execution_count": 54,
   "metadata": {},
   "outputs": [
    {
     "data": {
      "image/png": "[encoded data removed]",
      "text/plain": [
       "<Figure size 1000x500 with 1 Axes>"
      ]
     },
     "metadata": {},
     "output_type": "display_data"
    }
   ],
   "source": [
    "plt.figure(figsize=(10, 5))\n",
    "plt.plot(range(1, len(train_loss) + 1), train_loss, label='Training Loss')\n",
    "plt.plot(range(1, len(eval_loss) + 1), eval_loss, label='Validation Loss')\n",
    "plt.xlabel('Epoch')\n",
    "plt.ylabel('Loss')\n",
    "plt.legend()\n",
    "plt.title('Learning Curve')\n",
    "plt.show()"
   ]
  },
  {
   "cell_type": "code",
   "execution_count": 55,
   "metadata": {},
   "outputs": [
    {
     "name": "stdout",
     "output_type": "stream",
     "text": [
      "Exemples aléatoires du dataset d'entraînement :\n",
      "Sentence: Pouvez-vous me trouver un train de ?\n",
      "Label: 0\n",
      "--------------------------------------------------\n",
      "Sentence: Route à suivre de Framecourt à Espinasse-Vozelle.\n",
      "Label: 1\n",
      "--------------------------------------------------\n",
      "Sentence: Quel est le prochain train de Gréning à Saint-Christophe-en-Oisans ?Je voudrais trouver un train de Gréning à Saint-Christophe-en-Oisans ?\n",
      "Label: 1\n",
      "--------------------------------------------------\n",
      "Sentence: Le château de Roiffieux est un chef-d'œuvre de la Renaissance.\n",
      "Label: 0\n",
      "--------------------------------------------------\n",
      "Sentence: Je veux aller à Huby-Saint-Leu en partant de Souffrignac\n",
      "Label: 1\n",
      "--------------------------------------------------\n",
      "\n",
      "Exemples aléatoires du dataset de test :\n",
      "Sentence: J'ai prévu de quitter Cussy-le-Châtel pour se rendre à Verneuil via Saint-Léry.\n",
      "Label: 1\n",
      "--------------------------------------------------\n",
      "Sentence: J'ai prévu de quitter Billième pour se rendre à Avermes via Gonesse.\n",
      "Label: 1\n",
      "--------------------------------------------------\n",
      "Sentence: Comment puis-je me rendre à Saint-Genix-sur-Guiers depuis Saze ?\n",
      "Label: 1\n",
      "--------------------------------------------------\n",
      "Sentence: Les musées de Cornillé abritent des œuvres d'art célèbres.\n",
      "Label: 0\n",
      "--------------------------------------------------\n",
      "Sentence: J'ai prévu de quitter Saint-Didier-en-Donjon pour se rendre à Metzeral via Culey.\n",
      "Label: 1\n",
      "--------------------------------------------------\n"
     ]
    }
   ],
   "source": [
    "def print_random_examples(dataset, num_examples=5):\n",
    "    indices = random.sample(range(len(dataset)), num_examples)\n",
    "    for idx in indices:\n",
    "        example = dataset[idx]\n",
    "        sentence = tokenizer.decode(example['input_ids'], skip_special_tokens=True)\n",
    "        label = example['labels'].item()\n",
    "        print(f\"Sentence: {sentence}\")\n",
    "        print(f\"Label: {label}\")\n",
    "        print(\"-\" * 50)\n",
    "\n",
    "# Imprimer des exemples aléatoires du dataset d'entraînement\n",
    "print(\"Exemples aléatoires du dataset d'entraînement :\")\n",
    "print_random_examples(train_dataset)\n",
    "\n",
    "# Imprimer des exemples aléatoires du dataset de test\n",
    "print(\"\\nExemples aléatoires du dataset de test :\")\n",
    "print_random_examples(test_dataset)"
   ]
  },
  {
   "cell_type": "markdown",
   "metadata": {},
   "source": [
    "#### Sauvegarder le modèle"
   ]
  },
  {
   "cell_type": "code",
   "execution_count": 56,
   "metadata": {},
   "outputs": [
    {
     "data": {
      "text/plain": [
       "('./saved_model\\\\tokenizer_config.json',\n",
       " './saved_model\\\\special_tokens_map.json',\n",
       " './saved_model\\\\vocab.json',\n",
       " './saved_model\\\\merges.txt',\n",
       " './saved_model\\\\added_tokens.json',\n",
       " './saved_model\\\\tokenizer.json')"
      ]
     },
     "execution_count": 56,
     "metadata": {},
     "output_type": "execute_result"
    }
   ],
   "source": [
    "model.save_pretrained('./saved_model')\n",
    "tokenizer.save_pretrained('./saved_model')"
   ]
  },
  {
   "cell_type": "markdown",
   "metadata": {},
   "source": [
    "#### Benchmark autres modèles"
   ]
  },
  {
   "cell_type": "code",
   "execution_count": 57,
   "metadata": {},
   "outputs": [],
   "source": [
    "# model_names = [\n",
    "#     \"bert-base-uncased\",\n",
    "#     \"roberta-base\",\n",
    "#     \"distilbert-base-uncased\",\n",
    "#     \"albert-base-v2\",\n",
    "#     \"xlnet-base-cased\",\n",
    "#     \"camembert-base\"\n",
    "# ]\n",
    "\n",
    "# f1_scores = []\n",
    "# recall_scores = []\n",
    "# precision_scores = []"
   ]
  },
  {
   "cell_type": "code",
   "execution_count": 58,
   "metadata": {},
   "outputs": [],
   "source": [
    "# for model_name in model_names:\n",
    "#     print(f\"Testing model: {model_name}\")\n",
    "    \n",
    "#     # Charger le tokenizer et le modèle\n",
    "#     tokenizer = AutoTokenizer.from_pretrained(model_name)\n",
    "#     model = AutoModelForSequenceClassification.from_pretrained(model_name, num_labels=2)\n",
    "    \n",
    "#     # Créer les datasets de train et de test\n",
    "#     train_dataset = CustomDataset(train_sentences, train_labels, tokenizer)\n",
    "#     test_dataset = CustomDataset(test_sentences, test_labels, tokenizer)\n",
    "    \n",
    "#     # Définir les arguments d'entraînement\n",
    "#     training_args = TrainingArguments(\n",
    "#         output_dir='./results',\n",
    "#         learning_rate=1e-5,\n",
    "#         per_device_train_batch_size=32,\n",
    "#         per_device_eval_batch_size=32,\n",
    "#         num_train_epochs=2,\n",
    "#         weight_decay=0.01,\n",
    "#         evaluation_strategy=\"epoch\",\n",
    "#         save_strategy=\"epoch\",\n",
    "#         load_best_model_at_end=True,\n",
    "#         logging_steps=10,\n",
    "#     )\n",
    "    \n",
    "#     # Définir le trainer\n",
    "#     trainer = Trainer(\n",
    "#         model=model,\n",
    "#         args=training_args,\n",
    "#         train_dataset=train_dataset,\n",
    "#         eval_dataset=test_dataset,\n",
    "#         compute_metrics=compute_metrics\n",
    "#     )\n",
    "    \n",
    "#     # Entraîner le modèle\n",
    "#     trainer.train()\n",
    "    \n",
    "#     # Évaluer le modèle\n",
    "#     eval_result = trainer.evaluate()\n",
    "    \n",
    "#     # Enregistrer les métriques\n",
    "#     f1_scores.append(eval_result['eval_f1'])\n",
    "#     recall_scores.append(eval_result['eval_recall'])\n",
    "#     precision_scores.append(eval_result['eval_precision'])"
   ]
  },
  {
   "cell_type": "code",
   "execution_count": 59,
   "metadata": {},
   "outputs": [],
   "source": [
    "# # Tracer les résultats\n",
    "# plt.figure(figsize=(12, 6))\n",
    "# x = range(len(model_names))\n",
    "# plt.bar(x, f1_scores, width=0.2, label='F1 Score', align='center')\n",
    "# plt.bar(x, recall_scores, width=0.2, label='Recall', align='edge')\n",
    "# plt.bar(x, precision_scores, width=0.2, label='Precision', align='edge')\n",
    "# plt.xlabel('Models')\n",
    "# plt.ylabel('Scores')\n",
    "# plt.xticks(x, model_names, rotation=45)\n",
    "# plt.legend()\n",
    "# plt.title('Model Performance Comparison')\n",
    "# plt.show()"
   ]
  },
  {
   "cell_type": "markdown",
   "metadata": {},
   "source": [
    "#### Évaluation du modèle"
   ]
  },
  {
   "cell_type": "code",
   "execution_count": 60,
   "metadata": {},
   "outputs": [
    {
     "data": {
      "text/plain": [
       "RobertaForSequenceClassification(\n",
       "  (roberta): RobertaModel(\n",
       "    (embeddings): RobertaEmbeddings(\n",
       "      (word_embeddings): Embedding(50265, 768, padding_idx=1)\n",
       "      (position_embeddings): Embedding(514, 768, padding_idx=1)\n",
       "      (token_type_embeddings): Embedding(1, 768)\n",
       "      (LayerNorm): LayerNorm((768,), eps=1e-05, elementwise_affine=True)\n",
       "      (dropout): Dropout(p=0.1, inplace=False)\n",
       "    )\n",
       "    (encoder): RobertaEncoder(\n",
       "      (layer): ModuleList(\n",
       "        (0-11): 12 x RobertaLayer(\n",
       "          (attention): RobertaAttention(\n",
       "            (self): RobertaSdpaSelfAttention(\n",
       "              (query): Linear(in_features=768, out_features=768, bias=True)\n",
       "              (key): Linear(in_features=768, out_features=768, bias=True)\n",
       "              (value): Linear(in_features=768, out_features=768, bias=True)\n",
       "              (dropout): Dropout(p=0.1, inplace=False)\n",
       "            )\n",
       "            (output): RobertaSelfOutput(\n",
       "              (dense): Linear(in_features=768, out_features=768, bias=True)\n",
       "              (LayerNorm): LayerNorm((768,), eps=1e-05, elementwise_affine=True)\n",
       "              (dropout): Dropout(p=0.1, inplace=False)\n",
       "            )\n",
       "          )\n",
       "          (intermediate): RobertaIntermediate(\n",
       "            (dense): Linear(in_features=768, out_features=3072, bias=True)\n",
       "            (intermediate_act_fn): GELUActivation()\n",
       "          )\n",
       "          (output): RobertaOutput(\n",
       "            (dense): Linear(in_features=3072, out_features=768, bias=True)\n",
       "            (LayerNorm): LayerNorm((768,), eps=1e-05, elementwise_affine=True)\n",
       "            (dropout): Dropout(p=0.1, inplace=False)\n",
       "          )\n",
       "        )\n",
       "      )\n",
       "    )\n",
       "  )\n",
       "  (classifier): RobertaClassificationHead(\n",
       "    (dense): Linear(in_features=768, out_features=768, bias=True)\n",
       "    (dropout): Dropout(p=0.1, inplace=False)\n",
       "    (out_proj): Linear(in_features=768, out_features=2, bias=True)\n",
       "  )\n",
       ")"
      ]
     },
     "execution_count": 60,
     "metadata": {},
     "output_type": "execute_result"
    }
   ],
   "source": [
    "model = trainer.model\n",
    "model.eval()"
   ]
  },
  {
   "cell_type": "code",
   "execution_count": 61,
   "metadata": {},
   "outputs": [],
   "source": [
    "# Préparer les données de test\n",
    "test_encodings = tokenizer(test_sentences, truncation=True, padding=True)\n",
    "test_input_ids = torch.tensor(test_encodings['input_ids'])\n",
    "test_attention_mask = torch.tensor(test_encodings['attention_mask'])"
   ]
  },
  {
   "cell_type": "code",
   "execution_count": 62,
   "metadata": {},
   "outputs": [
    {
     "name": "stdout",
     "output_type": "stream",
     "text": [
      "tensor([1, 0, 1, 1, 1, 1, 1, 1, 0, 0, 1, 1, 1, 0, 1, 1, 1, 0, 1, 1, 1, 1, 1, 1,\n",
      "        1, 0, 0, 1, 1, 1, 1, 1, 1, 1, 1, 1, 0, 0, 1, 1, 1, 1, 1, 1, 1, 1, 1, 1,\n",
      "        1, 1, 1, 1, 1, 1, 1, 1, 1, 1, 1, 1, 1, 1, 1, 1, 1, 0, 1, 0, 1, 1, 1, 1,\n",
      "        1, 1, 1, 1, 1, 1, 1, 1, 1, 1, 0, 1, 1, 1, 1, 1, 1, 1, 1, 1, 1, 1, 1, 1,\n",
      "        1, 1, 1, 1, 0, 1, 1, 1, 1, 1, 1, 1, 1, 1, 1, 1, 1, 1, 1, 1, 1, 1, 1, 1,\n",
      "        0, 1, 1, 1, 1, 1, 1, 1, 1, 1, 1, 1, 1, 1, 1, 1, 1, 1, 1, 1, 1, 1, 1, 1,\n",
      "        1, 0, 1, 1, 1, 1, 1, 1, 1, 1, 1, 1, 1, 1, 1, 1, 1, 1, 1, 0, 1, 0, 1, 1,\n",
      "        1, 1, 1, 1, 1, 1, 1, 1, 1, 1, 1, 1, 1, 1, 1, 0, 1, 1, 0, 1, 0, 1, 1, 0,\n",
      "        1, 1, 1, 1, 1, 1, 1, 1, 1, 1, 1, 1, 1, 1, 1, 1, 1, 1, 1, 1, 1, 1, 1, 1,\n",
      "        1, 1, 1, 1, 0, 1, 1, 1, 1, 1, 1, 1, 1, 1, 1, 1, 1, 1, 1, 1, 1, 1, 1, 1,\n",
      "        1, 1, 1, 1, 1, 1, 0, 1, 1, 0, 1, 1, 1, 1, 1, 1, 1, 1, 1, 1, 1, 1, 1, 1,\n",
      "        0, 1, 1, 1, 1, 1, 1, 1, 1, 0, 1, 1, 1, 1, 1, 0, 1, 1, 1, 0, 1, 1, 1, 1,\n",
      "        1, 1, 0, 1, 1, 1, 1, 1, 1, 1, 0, 1, 1, 1, 1, 1, 1, 1, 1, 1, 1, 1, 1, 1,\n",
      "        1, 1, 1, 1, 1, 1, 1, 1, 1, 1, 1, 1, 1, 1, 1, 1, 1, 1, 1, 1, 0, 1, 1, 1,\n",
      "        1, 1, 1, 1, 1, 1, 1, 1, 1, 1, 1, 1, 1, 1, 1, 1, 1, 1, 1, 1, 1, 1, 0, 1,\n",
      "        1, 1, 1, 1, 1, 0, 1, 1, 0, 1, 1, 1, 1, 1, 1, 1, 1, 1, 1, 1, 1, 0, 1, 1,\n",
      "        0, 1, 1, 1, 1, 1, 1, 1, 1, 1, 1, 1, 1, 1, 1, 1, 1, 1, 1, 1, 1, 1, 1, 1,\n",
      "        1, 1, 1, 1, 1, 1, 1, 1, 1, 1, 1, 0, 1, 1, 1, 1, 1, 1, 1, 1, 1, 1, 1, 1,\n",
      "        1, 1, 1, 1, 1, 1, 1, 1, 1, 1, 0, 1, 1, 1, 1, 1, 1, 1, 1, 1, 1, 1, 1, 1,\n",
      "        1, 1, 1, 1, 1, 1, 1, 1, 1, 1, 1, 1, 1, 1, 1, 1, 1, 1, 1, 1, 1, 1, 1, 1,\n",
      "        1, 1, 1, 1, 1, 0, 1, 1, 1, 1, 1, 1, 1, 1, 1, 1, 1, 1, 1, 1, 1, 0, 0, 0,\n",
      "        0, 0, 0, 0, 1, 0, 0, 0, 0, 1, 0, 0, 0, 0, 0, 0, 0, 0, 0, 0, 0, 1, 0, 0,\n",
      "        0, 0, 0, 0, 0, 0, 0, 0, 1, 0, 0, 0, 0, 1, 0, 0, 0, 0, 0, 0, 0, 0, 0, 0,\n",
      "        0, 0, 0, 0, 0, 0, 0, 0, 0, 0, 0, 0, 0, 0, 0, 0, 0, 1, 0, 0, 0, 0, 0, 0,\n",
      "        0, 0, 0, 0, 0, 0, 0, 0, 0, 0, 0, 0, 0, 0, 0, 0, 0, 0, 0, 0, 0, 0, 0, 0,\n",
      "        0, 1, 0, 0, 1, 0, 0, 0, 0, 0, 0, 1, 0, 0, 1, 0, 0, 1, 0, 0, 0, 0, 0, 1,\n",
      "        0, 0, 0, 1, 0, 0, 0, 0, 0, 0, 0, 1, 1, 0, 1, 0, 0, 0, 0, 0, 0, 1, 0, 0,\n",
      "        0, 1, 0, 0, 0, 0, 0, 1, 0, 0, 0, 0, 0, 0, 0, 0, 0, 0, 0, 0, 0, 1, 0, 0,\n",
      "        0, 0, 0, 0, 0, 0, 0, 0, 0, 0, 0, 0, 0, 0, 0, 0, 0, 0, 0, 0, 0, 0, 0, 1,\n",
      "        0, 0, 0, 0, 0, 0, 0, 0, 0, 0, 0, 0, 0, 0, 0, 0, 0, 0, 0, 0, 0, 0, 0, 1,\n",
      "        0, 1, 0, 1, 0, 0, 0, 0, 0, 0, 0, 0, 0, 0, 0, 0, 0, 1, 0, 0, 0, 0, 0, 0,\n",
      "        1, 0, 1, 0, 0, 0, 0, 0, 0, 0, 0, 0, 0, 1, 0, 0, 1, 0, 0, 0, 0, 0, 0, 1,\n",
      "        0, 0, 0, 1, 0, 0, 0, 0, 0, 0, 0, 0, 0, 0, 0, 0, 1, 0, 0, 0, 1, 1, 0, 0,\n",
      "        0, 0, 0, 1, 0, 1, 0, 0, 0, 0, 0, 0, 0, 0, 0, 0, 0, 0, 0, 0, 0, 0, 1, 0,\n",
      "        1, 0, 0, 1, 0, 0, 0, 0, 0, 0, 0, 0, 0, 1, 0, 0, 0, 0, 0, 0, 0, 0, 0, 0,\n",
      "        0, 0, 0, 0, 1, 0, 0, 0, 0, 0, 0, 0, 0, 0, 1, 0, 0, 0, 1, 0, 0, 0, 0, 0,\n",
      "        0, 0, 0, 0, 0, 0, 0, 1, 0, 0, 0, 0, 0, 0, 0, 0, 0, 0, 0, 0, 0, 0, 0, 0,\n",
      "        0, 1, 0, 0, 0, 0, 1, 0, 0, 0, 0, 0, 0, 0, 0, 0, 1, 0, 0, 0, 0, 0, 0, 0,\n",
      "        0, 0, 1, 0, 0, 1, 0, 0, 0, 0, 1, 0, 0, 1, 0, 0, 0, 0, 0, 0, 0, 0, 0, 0,\n",
      "        0, 0, 0, 1, 0, 0, 0, 0, 0, 0, 0, 0, 0, 0, 0, 0, 0, 0, 0, 1, 0, 1, 0, 1,\n",
      "        0, 1, 0, 0, 0, 0, 0, 0, 0, 0, 0, 0, 0, 0, 0, 0, 0, 0, 0, 0, 0, 0, 0, 0,\n",
      "        0, 0, 1, 0, 0, 1, 1, 0, 0, 0, 1, 1, 0, 0, 0, 0])\n"
     ]
    }
   ],
   "source": [
    "# Prédictions\n",
    "with torch.no_grad():\n",
    "    outputs = model(test_input_ids, attention_mask=test_attention_mask)\n",
    "    predictions = torch.argmax(outputs.logits, dim=-1)\n",
    "    print(predictions)"
   ]
  },
  {
   "cell_type": "code",
   "execution_count": 63,
   "metadata": {},
   "outputs": [
    {
     "name": "stdout",
     "output_type": "stream",
     "text": [
      "F1 Score: 0.8989\n",
      "Recall: 0.8990\n",
      "Precision: 0.8998\n"
     ]
    }
   ],
   "source": [
    "# Calcul des métriques\n",
    "f1 = f1_score(test_labels, predictions, average='weighted')\n",
    "print(f\"F1 Score: {f1:.4f}\")\n",
    "recall = recall_score(test_labels, predictions, average='weighted')\n",
    "print(f\"Recall: {recall:.4f}\")\n",
    "precision = precision_score(test_labels, predictions, average='weighted')\n",
    "print(f\"Precision: {precision:.4f}\")"
   ]
  },
  {
   "cell_type": "markdown",
   "metadata": {},
   "source": [
    "#### Matrice de confusion"
   ]
  },
  {
   "cell_type": "code",
   "execution_count": 64,
   "metadata": {},
   "outputs": [
    {
     "data": {
      "image/png": "[encoded data removed]",
      "text/plain": [
       "<Figure size 640x480 with 2 Axes>"
      ]
     },
     "metadata": {},
     "output_type": "display_data"
    }
   ],
   "source": [
    "# Convertir les prédictions et les labels en numpy array\n",
    "if isinstance(predictions, torch.Tensor):\n",
    "    predictions = predictions.numpy()\n",
    "test_labels = np.array(test_labels)\n",
    "\n",
    "cm = confusion_matrix(test_labels, predictions)\n",
    "\n",
    "disp = ConfusionMatrixDisplay(confusion_matrix=cm, display_labels=['Non-Trip', 'Trip'])\n",
    "disp.plot(cmap='Blues')\n",
    "plt.show()"
   ]
  },
  {
   "cell_type": "markdown",
   "metadata": {},
   "source": [
    "### Fonction pour tester le modèle avec 1 phrase"
   ]
  },
  {
   "cell_type": "code",
   "execution_count": 65,
   "metadata": {},
   "outputs": [],
   "source": [
    "def predict_sentence(model, tokenizer, sentence):\n",
    "    model.eval()\n",
    "    inputs = tokenizer(sentence, return_tensors='pt', truncation=True, padding='max_length', max_length=128)\n",
    "    with torch.no_grad():\n",
    "        outputs = model(**inputs)\n",
    "        prediction = torch.argmax(outputs.logits, dim=-1).item()\n",
    "    return prediction"
   ]
  },
  {
   "cell_type": "code",
   "execution_count": 70,
   "metadata": {},
   "outputs": [
    {
     "name": "stdout",
     "output_type": "stream",
     "text": [
      "Prediction for 'Je voudrais un billet de Brest à Nantes': 1\n"
     ]
    }
   ],
   "source": [
    "test_sentence = \"Je voudrais un billet de Brest à Nantes\"\n",
    "\n",
    "prediction = predict_sentence(model, tokenizer, test_sentence)\n",
    "print(f\"Prediction for '{test_sentence}': {prediction}\")"
   ]
  },
  {
   "cell_type": "markdown",
   "metadata": {},
   "source": [
    "#### Push to hugging face"
   ]
  },
  {
   "cell_type": "code",
   "execution_count": null,
   "metadata": {},
   "outputs": [],
   "source": [
    "# from transformers import AutoModelForSequenceClassification, AutoTokenizer\n",
    "# from huggingface_hub import notebook_login, login\n",
    "\n",
    "# # Connexion à Hugging Face (nécessaire une seule fois)\n",
    "# # notebook_login()\n",
    "# login(token=\"\")\n",
    "\n",
    "# # Chemin de ton modèle local\n",
    "# model_path = \"./saved_model\"\n",
    "\n",
    "# # Nom du repo Hugging Face (choisis un nom unique)\n",
    "# repo_name = \"\"\n",
    "\n",
    "# # Charger le modèle et le tokenizer\n",
    "# model = AutoModelForSequenceClassification.from_pretrained(model_path)\n",
    "# tokenizer = AutoTokenizer.from_pretrained(model_path)\n",
    "\n",
    "# # Envoyer sur Hugging Face\n",
    "# model.push_to_hub(repo_name)\n",
    "# tokenizer.push_to_hub(repo_name)\n",
    "\n",
    "# print(f\"Modèle publié sur : https://huggingface.co/{repo_name}\")"
   ]
  }
 ],
 "metadata": {
  "kernelspec": {
   "display_name": "Python 3",
   "language": "python",
   "name": "python3"
  },
  "language_info": {
   "codemirror_mode": {
    "name": "ipython",
    "version": 3
   },
   "file_extension": ".py",
   "mimetype": "text/x-python",
   "name": "python",
   "nbconvert_exporter": "python",
   "pygments_lexer": "ipython3",
   "version": "3.12.8"
  }
 },
 "nbformat": 4,
 "nbformat_minor": 2
}
