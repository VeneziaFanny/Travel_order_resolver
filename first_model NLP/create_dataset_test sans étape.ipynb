{
 "cells": [
  {
   "cell_type": "markdown",
   "metadata": {},
   "source": [
    "### Création du dataset TEST pour le modèle NLP (CamemBERT)\n",
    "\n",
    "Création du dataset pour le premier modèle qui détermine si la phrase est au bon format ou phrase\n",
    "créer un grand dataset (que tu sépare ensuite entre entraînement et test)"
   ]
  },
  {
   "cell_type": "code",
   "execution_count": 1,
   "metadata": {},
   "outputs": [],
   "source": [
    "import pandas as pd\n",
    "import random"
   ]
  },
  {
   "cell_type": "code",
   "execution_count": 2,
   "metadata": {},
   "outputs": [
    {
     "name": "stdout",
     "output_type": "stream",
     "text": [
      "[\"L'Abergement-Clémenciat\", \"L'Abergement-de-Varey\", 'Ambérieu-en-Bugey', 'Ambérieux-en-Dombes', 'Ambléon', 'Ambronay', 'Ambutrix', 'Andert-et-Condon', 'Anglefort', 'Apremont']\n"
     ]
    }
   ],
   "source": [
    "cities_df = pd.read_csv('communes-departement-region.csv')\n",
    "cities = cities_df['nom_commune_complet'].tolist()\n",
    "print(cities[:10])"
   ]
  },
  {
   "cell_type": "code",
   "execution_count": 3,
   "metadata": {},
   "outputs": [],
   "source": [
    "valid_sentences_template = [\n",
    "    \"Je cherche un billet de {start} à {end}.\",\n",
    "    \"Comment puis-je me rendre à {end} depuis {start} ?\",\n",
    "    \"Je veux aller à {end} depuis {start}.\",\n",
    "    \"Pouvez-vous me trouver un train de {start} à {end} ?\",\n",
    "    \"Je voudrais un billet {start} {end}.\",\n",
    "    # \"Me rendre à {end} avec une étape à {etape}, en partant de {start}.\",\n",
    "    # \"Comment rejoindre {end} via {etape}, en partant de {start} ?\",\n",
    "    # \"Trajet avec une escale à {etape} entre {start} et {end}.\",\n",
    "    # \"Départ de {start}, avec un arrêt à {etape} avant {end}.\",\n",
    "    # \"Comment aller à {end}, en passant par {etape}, depuis {start} ?\",\n",
    "    \"J'ai prévu de quitter {start} pour se rendre à {end} via {etape}.\",\n",
    "    \"J'ai prévu de prendre le train à {start} pour aller à {end}.\"\n",
    "]\n",
    "\n",
    "invalid_sentences_template = [\n",
    "    \"Je voudrais un billet.\",\n",
    "    \"Les spécialités culinaires régionales de {end} sont à découvrir.\",\n",
    "    \"How can I travel from {start} to {end} ?\",\n",
    "    \"Les musées de {start} abritent des œuvres d'art célèbres.\",\n",
    "    \"Je veux voyager à.\",\n",
    "    \"Pouvez-vous me trouver un train depuis {start} ?\",\n",
    "    \"Les vignobles de {start} sont réputés dans le monde entier.\",\n",
    "    \"I want to go to {end} from {start}.\",\n",
    "    \"Les maisons à colombages sont typiques de la région.\",\n",
    "    \"Je veux prendre le train pour {end}.\",\n",
    "    \"J'ai prévu de {start} se rendre à {end} via.\"\n",
    "]\n"
   ]
  },
  {
   "cell_type": "code",
   "execution_count": 4,
   "metadata": {},
   "outputs": [],
   "source": [
    "def generate_questions(templates, num_questions=2000):\n",
    "    questions = []\n",
    "    for _ in range(num_questions):\n",
    "        start = random.choice(cities)\n",
    "        end = random.choice(cities)\n",
    "        if start != end:\n",
    "            template = random.choice(templates)\n",
    "            question = template.format(start=start, end=end)\n",
    "            questions.append(question)\n",
    "    return questions"
   ]
  },
  {
   "cell_type": "markdown",
   "metadata": {},
   "source": [
    "#### Créer des phrases au bon format"
   ]
  },
  {
   "cell_type": "code",
   "execution_count": 5,
   "metadata": {},
   "outputs": [],
   "source": [
    "valid_sentences = generate_questions(valid_sentences_template, 200) # 1200"
   ]
  },
  {
   "cell_type": "code",
   "execution_count": 6,
   "metadata": {},
   "outputs": [
    {
     "name": "stdout",
     "output_type": "stream",
     "text": [
      "                                              sentence  label\n",
      "95   Je veux aller à Écretteville-sur-Mer depuis La...      1\n",
      "15   J'ai prévu de quitter Catonvielle pour se rend...      1\n",
      "30               Je veux aller à Graçay depuis Devèze.      1\n",
      "158  Je voudrais un billet Bouvincourt-en-Vermandoi...      1\n",
      "128  Pouvez-vous me trouver un train de Générac à C...      1\n",
      "115  Je veux aller à Saint-Sauvier depuis Taputapua...      1\n",
      "69   J'ai prévu de quitter Chevenon pour se rendre ...      1\n",
      "170  Je voudrais un billet Saint-Pierre-des-Champs ...      1\n",
      "174  Comment puis-je me rendre à Saint-Mesmin depui...      1\n",
      "45             Je voudrais un billet Haubourdin Brecé.      1\n",
      "66       Je cherche un billet de Masseilles à Béganne.      1\n",
      "182  Trajet avec une escale à Velleminfroy entre Fl...      1\n",
      "165  Comment rejoindre Casevecchie via Neffes, en p...      1\n",
      "78   Pouvez-vous me trouver un train de Rettel à Ma...      1\n",
      "186  Comment rejoindre Adam-lès-Passavant via Ville...      1\n",
      "177  J'ai prévu de prendre le train à Margouët-Meym...      1\n",
      "56   Pouvez-vous me trouver un train de Douzat à Ab...      1\n",
      "152  Je voudrais un billet Chanas Saint-Romain-de-J...      1\n",
      "82    Je veux aller à Marieulles depuis Allibaudières.      1\n",
      "68   Départ de La Ferté-Hauterive, avec un arrêt à ...      1\n",
      "124  Départ de Chéry-lès-Rozoy, avec un arrêt à Bou...      1\n",
      "16   Comment aller à Varennes-sur-Usson, en passant...      1\n",
      "148  Me rendre à Ajain avec une étape à Servigny, e...      1\n",
      "93   Départ de Vendays-Montalivet, avec un arrêt à ...      1\n",
      "65   J'ai prévu de quitter Cessy pour se rendre à T...      1\n",
      "60   Je cherche un billet de Vauchelles-lès-Domart ...      1\n",
      "84   Comment puis-je me rendre à Dunière-sur-Eyrieu...      1\n",
      "67   J'ai prévu de prendre le train à Nercillac pou...      1\n",
      "125  Je voudrais un billet Sainte-Colome Noyelles-s...      1\n",
      "132  Comment puis-je me rendre à Bourdic depuis Sai...      1\n",
      "9    Pouvez-vous me trouver un train de Moussey à S...      1\n",
      "18   Comment puis-je me rendre à Vernoux-en-Gâtine ...      1\n",
      "55   Trajet avec une escale à Saint-Christaud entre...      1\n",
      "75   Je voudrais un billet Gruey-lès-Surance Campag...      1\n",
      "150  Comment puis-je me rendre à Armbouts-Cappel de...      1\n",
      "104  Comment aller à Pleugueneuc, en passant par Sa...      1\n",
      "135  Me rendre à Préchacq-les-Bains avec une étape ...      1\n",
      "137  Je voudrais un billet Bellefontaine Saint-Germ...      1\n",
      "164  Trajet avec une escale à Dognen entre Treteau ...      1\n",
      "76         Je voudrais un billet Sigy-en-Bray Balacet.      1\n",
      "79   J'ai prévu de prendre le train à Gaudechart po...      1\n",
      "197  Pouvez-vous me trouver un train de Hautefontai...      1\n",
      "38   Trajet avec une escale à Rix entre Saint-Paul-...      1\n",
      "24   Je veux aller à Domremy-Landéville depuis Nass...      1\n",
      "122  J'ai prévu de prendre le train à Saint-Firmin-...      1\n",
      "195  Je cherche un billet de Beauregard-Baret à Tai...      1\n",
      "29   Comment puis-je me rendre à Saint-Élix-Séglan ...      1\n",
      "19   Comment aller à La Neuville, en passant par Mo...      1\n",
      "143  J'ai prévu de quitter Ajain pour se rendre à C...      1\n",
      "86   Comment rejoindre Chissey-sur-Loue via Bonnay,...      1\n"
     ]
    }
   ],
   "source": [
    "data = {\n",
    "    'sentence': valid_sentences,\n",
    "    'label': 1\n",
    "}\n",
    "df = pd.DataFrame(data)\n",
    "sample_df = df.sample(n=50, random_state=42)\n",
    "print(sample_df)"
   ]
  },
  {
   "cell_type": "code",
   "execution_count": 7,
   "metadata": {},
   "outputs": [],
   "source": [
    "df.to_csv('valid_sentences_test_dataset.csv', index=False, encoding='utf-8')"
   ]
  },
  {
   "cell_type": "markdown",
   "metadata": {},
   "source": [
    "#### Créer des phrases au mauvais format"
   ]
  },
  {
   "cell_type": "code",
   "execution_count": 8,
   "metadata": {},
   "outputs": [],
   "source": [
    "invalid_sentences = generate_questions(invalid_sentences_template, 200) # 1200"
   ]
  },
  {
   "cell_type": "code",
   "execution_count": 9,
   "metadata": {},
   "outputs": [
    {
     "name": "stdout",
     "output_type": "stream",
     "text": [
      "                                            sentence  label\n",
      "0  Les spécialités culinaires régionales de Le Me...      0\n",
      "1  I want to go to Caucalières from Port-Saint-Lo...      0\n",
      "2    Pouvez-vous me trouver un train depuis Dieppe ?      0\n",
      "3  Pouvez-vous me trouver un train depuis Savoyeux ?      0\n",
      "4  Les spécialités culinaires régionales de Plan-...      0\n"
     ]
    }
   ],
   "source": [
    "data = {\n",
    "    'sentence': invalid_sentences,\n",
    "    'label': 0\n",
    "}\n",
    "df = pd.DataFrame(data)\n",
    "print(df.head())"
   ]
  },
  {
   "cell_type": "code",
   "execution_count": 10,
   "metadata": {},
   "outputs": [],
   "source": [
    "df.to_csv('invalid_sentences_test_dataset.csv', index=False, encoding='utf-8')"
   ]
  }
 ],
 "metadata": {
  "kernelspec": {
   "display_name": "Python 3",
   "language": "python",
   "name": "python3"
  },
  "language_info": {
   "codemirror_mode": {
    "name": "ipython",
    "version": 3
   },
   "file_extension": ".py",
   "mimetype": "text/x-python",
   "name": "python",
   "nbconvert_exporter": "python",
   "pygments_lexer": "ipython3",
   "version": "3.12.8"
  }
 },
 "nbformat": 4,
 "nbformat_minor": 2
}
