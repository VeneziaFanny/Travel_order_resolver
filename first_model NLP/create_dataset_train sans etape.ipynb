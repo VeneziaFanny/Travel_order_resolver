{
 "cells": [
  {
   "cell_type": "markdown",
   "metadata": {},
   "source": [
    "### Création du dataset TRAIN pour le modèle NLP (CamemBERT)\n",
    "\n",
    "Création du dataset pour le premier modèle qui détermine si la phrase est au bon format ou phrase\n",
    "créer un grand dataset (que tu sépare ensuite entre entraînement et test)"
   ]
  },
  {
   "cell_type": "code",
   "execution_count": 6,
   "metadata": {},
   "outputs": [],
   "source": [
    "import pandas as pd\n",
    "import random"
   ]
  },
  {
   "cell_type": "code",
   "execution_count": 7,
   "metadata": {},
   "outputs": [
    {
     "name": "stdout",
     "output_type": "stream",
     "text": [
      "[\"L'Abergement-Clémenciat\", \"L'Abergement-de-Varey\", 'Ambérieu-en-Bugey', 'Ambérieux-en-Dombes', 'Ambléon', 'Ambronay', 'Ambutrix', 'Andert-et-Condon', 'Anglefort', 'Apremont']\n"
     ]
    }
   ],
   "source": [
    "cities_df = pd.read_csv('communes-departement-region.csv')\n",
    "cities = cities_df['nom_commune_complet'].tolist()\n",
    "print(cities[:10])"
   ]
  },
  {
   "cell_type": "code",
   "execution_count": 8,
   "metadata": {},
   "outputs": [],
   "source": [
    "valid_sentences_template = [\n",
    "    \"Je veux voyager de {start} à {end}.\",\n",
    "    # \"Itinéraire entre {start} et {end}, en passant par {etape}.\",\n",
    "    \"Je voudrais un billet de {start} à {end}.\",\n",
    "    # \"Départ de {start}, avec un arrêt à {etape} avant {end}.\",\n",
    "    \"Comment puis-je aller de {start} à {end} ?\",\n",
    "    \"Pouvez-vous me trouver un train de {start} à {end} ?\",\n",
    "    # \"Je voudrais un itinéraire de {start} à {end} avec une étape à {etape}.\",\n",
    "    \"Je souhaite réserver un billet de {start} à {end}.\",\n",
    "    \"Y a-t-il des trains de {start} à {end} demain ?\",\n",
    "    # \"Comment aller à {end}, en passant par {etape}, depuis {start} ?\",\n",
    "    # \"Comment rejoindre {end} via {etape}, en partant de {start} ?\",\n",
    "    \"Je dois aller de {start} à {end}.\",\n",
    "    # \"Comment aller de {start} à {end}, avec un passage à {etape} ?\",\n",
    "    # \"Me rendre à {end} avec une étape à {etape}, en partant de {start}.\",\n",
    "    \"Quel est le prochain train de {start} à {end} ?\",\n",
    "    \"Je cherche un billet de {start} à {end}.\",\n",
    "    \"Comment puis-je me rendre de {start} à {end} ?\",\n",
    "    \"Je veux aller de {start} à {end}.\",\n",
    "    \"Pouvez-vous me trouver un train de {start} à {end} ?\",\n",
    "    # \"Trajet avec une escale à {etape} entre {start} et {end}.\",\n",
    "    \"Je souhaite réserver un billet de {start} à {end}.\",\n",
    "    \"Y a-t-il des trains de {start} à {end} demain ?\",\n",
    "    # \"Voyager via {etape} entre {start} et {end}.\",\n",
    "    \"Je dois aller de {start} à {end}.\",\n",
    "    \"Quel est le prochain train de {start} à {end} ?\"\n",
    "    \"Je voudrais trouver un train de {start} à {end} ?\",\n",
    "    \"Route à suivre de {start} à {end}.\",\n",
    "    \"Quel est le meilleur chemin entre {start} et {end} ?\",\n",
    "    \"Quel est l'itinéraire recommandé entre {start} et {end} ?\",\n",
    "    # \"Voyage de {start} à {end} avec un arrêt à {etape}.\",\n",
    "    # \"Aller de {start} à {end} via {etape}.\",\n",
    "    # \"Je pars de {start} pour aller à {end}, avec un arrêt à {etape}.\",\n",
    "    # \"Voyager de {start} à {end}, avec une étape à {etape}.\",\n",
    "    # \"Itinéraire avec un arrêt à {etape} entre {start} et {end}.\",\n",
    "    # \"Départ de {start} avec un arrêt à {etape} avant {end}.\",\n",
    "    # \"Voyage de {start} à {end} avec un arrêt à {etape}.\",\n",
    "    \"De {start}, je me rendrai à {end} en passant par {etape}.\",\n",
    "    \"J'ai prévu de prendre le train à {start} pour aller à {end}.\"\n",
    "]\n",
    "\n",
    "invalid_sentences_template = [\n",
    "    \"Les visites guidées à {start} offrent des expériences uniques.\",\n",
    "    \"Comment puis-je aller à {start} ?\",\n",
    "    \"Y a-t-il des trains demain ?\",\n",
    "    \"Je dois aller quelque part.\",\n",
    "    \"Quel est le prochain train ?\",\n",
    "    \"Je cherche un billet.\",\n",
    "    \"{start} est réputée pour ses plages, tout comme celles de {end}.\",\n",
    "    \"Comment puis-je me rendre ?\",\n",
    "    \"Je veux aller à {end}.\",\n",
    "    \"is there any train going to {start} ?\",\n",
    "    \"I need to go to {start} from {end}\",\n",
    "    \"Pouvez-vous me trouver un train de ?\",\n",
    "    \"À {start}, j'ai appris des histoires sur la ville de {end}.\",\n",
    "    \"Je souhaite réserver un billet de.\",\n",
    "    \"Y a-t-il des trains demain de ?\",\n",
    "    \"Quel est le prochain train pour {start} ?\",\n",
    "    \"Le {end} est magnifique au coucher du soleil.\",\n",
    "    \"À {start}, j'ai visité une magnifique cave à vin.\",\n",
    "    \"La mairie de {end} est un monument impressionnant.\",\n",
    "    \"Quel est le prochain train de ?\",\n",
    "    \"Je cherche un billet de.\",\n",
    "    \"I would like a ticket to {end} from {start}\",\n",
    "    \"Comment puis-je me rendre de ?\",\n",
    "    \"Je veux voyager.\",\n",
    "    \"Pouvez-vous me trouver un train ?\",\n",
    "    \"Je souhaite réserver un billet.\",\n",
    "    \"Je veux aller de.\",\n",
    "    \"Pouvez-vous me trouver un train pour {end} ?\",\n",
    "    \"{start} est connue pour sa culture, tout comme celle de {end}.\",\n",
    "    \"Le château de {start} est un chef-d'œuvre de la Renaissance.\",\n",
    "    \"Les balades à vélo dans les vignobles sont agréables.\"\n",
    "]"
   ]
  },
  {
   "cell_type": "code",
   "execution_count": 9,
   "metadata": {},
   "outputs": [],
   "source": [
    "def generate_questions(templates, num_questions=2000):\n",
    "    questions = []\n",
    "    for _ in range(num_questions):\n",
    "        start = random.choice(cities)\n",
    "        end = random.choice(cities)\n",
    "        if start != end:\n",
    "            template = random.choice(templates)\n",
    "            question = template.format(start=start, end=end)\n",
    "            questions.append(question)\n",
    "    return questions"
   ]
  },
  {
   "cell_type": "markdown",
   "metadata": {},
   "source": [
    "#### Créer des phrases au bon format"
   ]
  },
  {
   "cell_type": "code",
   "execution_count": 10,
   "metadata": {},
   "outputs": [],
   "source": [
    "valid_sentences = generate_questions(valid_sentences_template, 800) # 4800"
   ]
  },
  {
   "cell_type": "code",
   "execution_count": 11,
   "metadata": {},
   "outputs": [
    {
     "name": "stdout",
     "output_type": "stream",
     "text": [
      "                                              sentence  label\n",
      "696  Quel est l'itinéraire recommandé entre Artix e...      1\n",
      "667  Pouvez-vous me trouver un train de Alairac à L...      1\n",
      "63        Comment puis-je aller de Trémolat à Ansost ?      1\n",
      "533  Voyage de Les Gets à Beccas avec un arrêt à Le...      1\n",
      "66   Comment aller de Vénérand à Creuzier-le-Vieux,...      1\n",
      "621        Je cherche un billet de Eybouleuf à Berrie.      1\n",
      "346  Départ de Saint-Bonnet-de-Cray avec un arrêt à...      1\n",
      "490  Je souhaite réserver un billet de La Roque-en-...      1\n",
      "760  Y a-t-il des trains de Royère-de-Vassivière à ...      1\n",
      "456  Comment rejoindre Vallica via Herbignac, en pa...      1\n",
      "65   Pouvez-vous me trouver un train de Killem à Gr...      1\n",
      "286  Je voudrais un itinéraire de Balleroy-sur-Drôm...      1\n",
      "635    Je dois aller de Bressey-sur-Tille à Bertignat.      1\n",
      "67   Me rendre à Maisnières avec une étape à Saint-...      1\n",
      "327  Pouvez-vous me trouver un train de Baslieux à ...      1\n",
      "395  Je souhaite réserver un billet de Fiménil à Be...      1\n",
      "244  Comment aller de Ambert à Castanet-le-Haut, av...      1\n",
      "377  Je voudrais un billet de Beaufremont à Gaillac...      1\n",
      "610  Départ de Oloron-Sainte-Marie, avec un arrêt à...      1\n",
      "526  Comment puis-je me rendre de Saint-Loup à Chât...      1\n",
      "658  Je voudrais un billet de Les Contamines-Montjo...      1\n",
      "529  Je dois aller de Saint-Parres-aux-Tertres à Du...      1\n",
      "622  J'ai prévu de prendre le train à Sougé pour al...      1\n",
      "721  Je souhaite réserver un billet de Champseru à ...      1\n",
      "360  Quel est le prochain train de Marillac-le-Fran...      1\n",
      "30   Comment rejoindre Maupas via Saint-Christoly-d...      1\n",
      "260  Comment rejoindre Vérargues via Pern, en parta...      1\n",
      "637  Quel est le meilleur chemin entre Sartène et L...      1\n",
      "746  Quel est le prochain train de Calonne-Ricouart...      1\n",
      "570  Je voudrais un itinéraire de Gorhey à Pleyber-...      1\n",
      "215  Voyager de Sauzet à Saint-Christophe-en-Bresse...      1\n",
      "78   Itinéraire entre Fontanil-Cornillon et Saint-M...      1\n",
      "578  De Plénée-Jugon, je me rendrai à Seraincourt e...      1\n",
      "383  Comment aller de Arthaz-Pont-Notre-Dame à Vant...      1\n",
      "39   Voyager via Folligny entre Bourguignon-lès-la-...      1\n",
      "23   Comment rejoindre Marchamp via Avernes-Saint-G...      1\n",
      "692  Trajet avec une escale à Peyrens entre Trédude...      1\n",
      "398  Voyager de Lanleff à Broindon, avec une étape ...      1\n",
      "796  Comment aller à Courson, en passant par Lestra...      1\n",
      "741            Je veux voyager de Bavent à Perceneige.      1\n",
      "139  Départ de Égriselles-le-Bocage, avec un arrêt ...      1\n",
      "250  Je veux aller de Lisle-en-Barrois à Saint-Projet.      1\n",
      "174     Je cherche un billet de Ambrières à La Vernaz.      1\n",
      "323          Aller de Chitray à Nordhouse via Morganx.      1\n",
      "595  Trajet avec une escale à Le Drennec entre Moli...      1\n",
      "525  Trajet avec une escale à Montgé-en-Goële entre...      1\n",
      "423  Pouvez-vous me trouver un train de Péchabou à ...      1\n",
      "596  Quel est le meilleur chemin entre Moncontour e...      1\n",
      "604  Voyage de Y à Rouffilhac avec un arrêt à La Ch...      1\n",
      "534              Je dois aller de Peyrilles à Mauléon.      1\n"
     ]
    }
   ],
   "source": [
    "data = {\n",
    "    'sentence': valid_sentences,\n",
    "    'label': 1\n",
    "}\n",
    "df = pd.DataFrame(data)\n",
    "sample_df = df.sample(n=50, random_state=42)\n",
    "print(sample_df)"
   ]
  },
  {
   "cell_type": "code",
   "execution_count": 12,
   "metadata": {},
   "outputs": [],
   "source": [
    "df.to_csv('valid_sentences_train_dataset.csv', index=False, encoding='utf-8')"
   ]
  },
  {
   "cell_type": "markdown",
   "metadata": {},
   "source": [
    "#### Créer des phrases au mauvais format"
   ]
  },
  {
   "cell_type": "code",
   "execution_count": 13,
   "metadata": {},
   "outputs": [],
   "source": [
    "invalid_sentences = generate_questions(valid_sentences_template, 800) # 4800"
   ]
  },
  {
   "cell_type": "code",
   "execution_count": 14,
   "metadata": {},
   "outputs": [
    {
     "name": "stdout",
     "output_type": "stream",
     "text": [
      "                                            sentence  label\n",
      "0  Départ de Souligné-sous-Ballon avec un arrêt à...      0\n",
      "1  Départ de Villefranche-d'Allier avec un arrêt ...      0\n",
      "2  Pouvez-vous me trouver un train de Tressan à B...      0\n",
      "3  Comment puis-je me rendre de Lieffrans à Clave...      0\n",
      "4  Voyage de Bretagne-de-Marsan à Auch avec un ar...      0\n"
     ]
    }
   ],
   "source": [
    "data = {\n",
    "    'sentence': invalid_sentences,\n",
    "    'label': 0\n",
    "}\n",
    "df = pd.DataFrame(data)\n",
    "print(df.head())"
   ]
  },
  {
   "cell_type": "code",
   "execution_count": 15,
   "metadata": {},
   "outputs": [],
   "source": [
    "df.to_csv('invalid_sentences_train_dataset.csv', index=False, encoding='utf-8')"
   ]
  }
 ],
 "metadata": {
  "kernelspec": {
   "display_name": "Python 3",
   "language": "python",
   "name": "python3"
  },
  "language_info": {
   "codemirror_mode": {
    "name": "ipython",
    "version": 3
   },
   "file_extension": ".py",
   "mimetype": "text/x-python",
   "name": "python",
   "nbconvert_exporter": "python",
   "pygments_lexer": "ipython3",
   "version": "3.12.8"
  }
 },
 "nbformat": 4,
 "nbformat_minor": 2
}
