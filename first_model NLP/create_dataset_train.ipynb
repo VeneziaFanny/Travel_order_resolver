{
 "cells": [
  {
   "cell_type": "markdown",
   "metadata": {},
   "source": [
    "### Création du dataset TRAIN pour le modèle NLP (CamemBERT)\n",
    "\n",
    "Création du dataset pour le premier modèle qui détermine si la phrase est au bon format ou phrase\n",
    "créer un grand dataset (que tu sépare ensuite entre entraînement et test)"
   ]
  },
  {
   "cell_type": "code",
   "execution_count": 11,
   "metadata": {},
   "outputs": [],
   "source": [
    "import pandas as pd\n",
    "import random"
   ]
  },
  {
   "cell_type": "code",
   "execution_count": 12,
   "metadata": {},
   "outputs": [
    {
     "name": "stdout",
     "output_type": "stream",
     "text": [
      "[\"L'Abergement-Clémenciat\", \"L'Abergement-de-Varey\", 'Ambérieu-en-Bugey', 'Ambérieux-en-Dombes', 'Ambléon', 'Ambronay', 'Ambutrix', 'Andert-et-Condon', 'Anglefort', 'Apremont']\n"
     ]
    }
   ],
   "source": [
    "cities_df = pd.read_csv('communes-departement-region.csv')\n",
    "cities = cities_df['nom_commune_complet'].tolist()\n",
    "print(cities[:10])"
   ]
  },
  {
   "cell_type": "code",
   "execution_count": 13,
   "metadata": {},
   "outputs": [],
   "source": [
    "valid_sentences_template = [\n",
    "    \"Je veux voyager de {start} à {end}.\",\n",
    "    \"Itinéraire entre {start} et {end}, en passant par {etape}.\",\n",
    "    \"Je voudrais un billet de {start} à {end}.\",\n",
    "    \"Départ de {start}, avec un arrêt à {etape} avant {end}.\",\n",
    "    \"Comment puis-je aller de {start} à {end} ?\",\n",
    "    \"Pouvez-vous me trouver un train de {start} à {end} ?\",\n",
    "    \"Je voudrais un itinéraire de {start} à {end} avec une étape à {etape}.\",\n",
    "    \"Je souhaite réserver un billet de {start} à {end}.\",\n",
    "    \"Y a-t-il des trains de {start} à {end} demain ?\",\n",
    "    \"Comment aller à {end}, en passant par {etape}, depuis {start} ?\",\n",
    "    \"Comment rejoindre {end} via {etape}, en partant de {start} ?\",\n",
    "    \"Je dois aller de {start} à {end}.\",\n",
    "    \"Comment aller de {start} à {end}, avec un passage à {etape} ?\",\n",
    "    \"Me rendre à {end} avec une étape à {etape}, en partant de {start}.\",\n",
    "    \"Quel est le prochain train de {start} à {end} ?\",\n",
    "    \"Je cherche un billet de {start} à {end}.\",\n",
    "    \"Comment puis-je me rendre de {start} à {end} ?\",\n",
    "    \"Je veux aller de {start} à {end}.\",\n",
    "    \"Pouvez-vous me trouver un train de {start} à {end} ?\",\n",
    "    \"Trajet avec une escale à {etape} entre {start} et {end}.\",\n",
    "    \"Je veux aller à {end} depuis {start}.\",\n",
    "    \"Je souhaite réserver un billet de {start} à {end}.\",\n",
    "    \"Y a-t-il des trains de {start} à {end} demain ?\",\n",
    "    \"Voyager via {etape} entre {start} et {end}.\",\n",
    "    \"Je dois aller de {start} à {end}.\",\n",
    "    \"Quel est le prochain train de {start} à {end} ?\"\n",
    "    \"Je voudrais trouver un train de {start} à {end} ?\",\n",
    "    \"Route à suivre de {start} à {end}.\",\n",
    "    \"Quel est le meilleur chemin entre {start} et {end} ?\",\n",
    "    \"Quel est l'itinéraire recommandé entre {start} et {end} ?\",\n",
    "    \"Voyage de {start} à {end} avec un arrêt à {etape}.\",\n",
    "    \"Aller de {start} à {end} via {etape}.\",\n",
    "    \"Je pars de {start} pour aller à {end}, avec un arrêt à {etape}.\",\n",
    "    \"Voyager de {start} à {end}, avec une étape à {etape}.\",\n",
    "    \"Itinéraire avec un arrêt à {etape} entre {start} et {end}.\",\n",
    "    \"Départ de {start} avec un arrêt à {etape} avant {end}.\",\n",
    "    \"Voyage de {start} à {end} avec un arrêt à {etape}.\",\n",
    "    \"De {start}, je me rendrai à {end} en passant par {etape}.\",\n",
    "    \"J'ai prévu de prendre le train à {start} pour aller à {end}.\",\n",
    "    \"Je veux aller à {end} en partant de {start}.\",\n",
    "    \"Je veux aller à {end} en partant de {start}\"\n",
    "]\n",
    "\n",
    "invalid_sentences_template = [\n",
    "    \"Les visites guidées à {start} offrent des expériences uniques.\",\n",
    "    \"Comment puis-je aller à {start} ?\",\n",
    "    \"Y a-t-il des trains demain ?\",\n",
    "    \"Je dois aller quelque part.\",\n",
    "    \"Quel est le prochain train ?\",\n",
    "    \"Je cherche un billet.\",\n",
    "    \"{start} est réputée pour ses plages, tout comme celles de {end}.\",\n",
    "    \"Comment puis-je me rendre ?\",\n",
    "    \"Je veux aller à {end}.\",\n",
    "    \"is there any train going to {start} ?\",\n",
    "    \"I need to go to {start} from {end}\",\n",
    "    \"Pouvez-vous me trouver un train de ?\",\n",
    "    \"À {start}, j'ai appris des histoires sur la ville de {end}.\",\n",
    "    \"Je souhaite réserver un billet de.\",\n",
    "    \"Y a-t-il des trains demain de ?\",\n",
    "    \"Quel est le prochain train pour {start} ?\",\n",
    "    \"Le {end} est magnifique au coucher du soleil.\",\n",
    "    \"À {start}, j'ai visité une magnifique cave à vin.\",\n",
    "    \"La mairie de {end} est un monument impressionnant.\",\n",
    "    \"Quel est le prochain train de ?\",\n",
    "    \"Je cherche un billet de.\",\n",
    "    \"I would like a ticket to {end} from {start}\",\n",
    "    \"Comment puis-je me rendre de ?\",\n",
    "    \"Je veux voyager.\",\n",
    "    \"Pouvez-vous me trouver un train ?\",\n",
    "    \"Je souhaite réserver un billet.\",\n",
    "    \"Je veux aller de.\",\n",
    "    \"Pouvez-vous me trouver un train pour {end} ?\",\n",
    "    \"{start} est connue pour sa culture, tout comme celle de {end}.\",\n",
    "    \"Le château de {start} est un chef-d'œuvre de la Renaissance.\",\n",
    "    \"Les balades à vélo dans les vignobles sont agréables.\",\n",
    "    \"Je préfère {end} à {start}.\",\n",
    "]"
   ]
  },
  {
   "cell_type": "code",
   "execution_count": 14,
   "metadata": {},
   "outputs": [],
   "source": [
    "def generate_questions(templates, num_questions=5000):\n",
    "    questions = []\n",
    "    for _ in range(num_questions):\n",
    "        start = random.choice(cities)\n",
    "        end = random.choice(cities)\n",
    "        if start != end:\n",
    "            template = random.choice(templates)\n",
    "            if '{etape}' in template:\n",
    "                etape = random.choice(cities)\n",
    "                while etape == start or etape == end:\n",
    "                    etape = random.choice(cities)\n",
    "                question = template.format(start=start, end=end, etape=etape)\n",
    "            else:\n",
    "                question = template.format(start=start, end=end)\n",
    "            questions.append(question)\n",
    "    return questions"
   ]
  },
  {
   "cell_type": "markdown",
   "metadata": {},
   "source": [
    "#### Créer des phrases au bon format"
   ]
  },
  {
   "cell_type": "code",
   "execution_count": 15,
   "metadata": {},
   "outputs": [],
   "source": [
    "valid_sentences = generate_questions(valid_sentences_template, 2000) # 4800"
   ]
  },
  {
   "cell_type": "code",
   "execution_count": 16,
   "metadata": {},
   "outputs": [
    {
     "name": "stdout",
     "output_type": "stream",
     "text": [
      "                                               sentence  label\n",
      "1860  Route à suivre de Cause-de-Clérans à Lacroix-S...      1\n",
      "353   Aller de Saint-Viaud à Chuignes via Serzy-et-P...      1\n",
      "1333        Je veux aller de Fougères à Gy-les-Nonains.      1\n",
      "905   Y a-t-il des trains de Tintry à Sainte-Anastas...      1\n",
      "1289  Je souhaite réserver un billet de Varnéville à...      1\n",
      "1273  Comment aller de Saint-Laurent à Coin-lès-Cuvr...      1\n",
      "938   Comment aller de Sumène à Vaudeville, avec un ...      1\n",
      "1731  Y a-t-il des trains de Seyne à Villars-Fontain...      1\n",
      "65    Pouvez-vous me trouver un train de Nubécourt à...      1\n",
      "1323  Comment rejoindre Sogny-aux-Moulins via Méness...      1\n",
      "56    Je souhaite réserver un billet de Plérin à Ley...      1\n",
      "1292  Y a-t-il des trains de Scrignac à Le Sourd dem...      1\n",
      "1118  Voyager de Saint-Saturnin-de-Lenne à Latour-de...      1\n",
      "584       Je veux aller à Massac-Séran depuis Ambiegna.      1\n",
      "374   Route à suivre de Les Loges-Saulces à Condé-su...      1\n",
      "275   Comment aller de Thoiry à Bettignies, avec un ...      1\n",
      "746   Y a-t-il des trains de Longeau-Percey à Riquew...      1\n",
      "128   Me rendre à Bézenet avec une étape à Beynes, e...      1\n",
      "1646  Itinéraire entre Schœnau et Chenonceaux, en pa...      1\n",
      "1852  Y a-t-il des trains de Broualan à Tresbœuf dem...      1\n",
      "674   Comment puis-je me rendre de Les Eyzies-de-Tay...      1\n",
      "1664  Y a-t-il des trains de Saint-Philibert à Rosay...      1\n",
      "1981        Je dois aller de Cuillé à Saint-Symphorien.      1\n",
      "1083    Quel est le prochain train de Usson à Viffort ?      1\n",
      "1922  Voyager via Sacierges-Saint-Martin entre Buzan...      1\n",
      "99    Quel est le prochain train de Saint-Pierre-de-...      1\n",
      "1179  Y a-t-il des trains de Valgorge à Pommevic dem...      1\n",
      "964   Je voudrais un itinéraire de Germigny-l'Exempt...      1\n",
      "792   Je souhaite réserver un billet de Le Beulay à ...      1\n",
      "29    Pouvez-vous me trouver un train de Léry à Cast...      1\n",
      "628   Je cherche un billet de Villars-sous-Dampjoux ...      1\n",
      "944     Voyager via Grenoble entre Juscorps et Berthez.      1\n",
      "572   Me rendre à Bayard-sur-Marne avec une étape à ...      1\n",
      "907   Me rendre à Flaujac-Poujols avec une étape à M...      1\n",
      "1080               Route à suivre de Javené à Vauxbuin.      1\n",
      "450   Départ de Sainte-Gemme avec un arrêt à Bougiva...      1\n",
      "1609  Comment aller de Noulens à Beynes, avec un pas...      1\n",
      "1290  Départ de Parthenay avec un arrêt à Baron-sur-...      1\n",
      "1078  Trajet avec une escale à Escoubès entre Gonden...      1\n",
      "254                Je dois aller de Urval à Enchenberg.      1\n",
      "124   Voyager via Brouzet-lès-Alès entre Villiers-en...      1\n",
      "1927  Je veux aller à Prudemanche en partant de Vosn...      1\n",
      "251   Je souhaite réserver un billet de Villiers-les...      1\n",
      "585   Je veux aller à Saint-Privat depuis Mondonvill...      1\n",
      "1568  Je voudrais un billet de Fauconcourt à Vauxail...      1\n",
      "824   Quel est l'itinéraire recommandé entre Le Teic...      1\n",
      "507   Je voudrais un billet de Saint-Genès-Champanel...      1\n",
      "889          Je dois aller de Yvoy-le-Marron à Puzieux.      1\n",
      "70    Départ de Saint-Sever, avec un arrêt à Saint-C...      1\n",
      "1608  Pouvez-vous me trouver un train de Hampigny à ...      1\n"
     ]
    }
   ],
   "source": [
    "data = {\n",
    "    'sentence': valid_sentences,\n",
    "    'label': 1\n",
    "}\n",
    "df = pd.DataFrame(data)\n",
    "sample_df = df.sample(n=50, random_state=42)\n",
    "print(sample_df)"
   ]
  },
  {
   "cell_type": "code",
   "execution_count": 17,
   "metadata": {},
   "outputs": [],
   "source": [
    "df.to_csv('valid_sentences_train_dataset.csv', index=False, encoding='utf-8')"
   ]
  },
  {
   "cell_type": "markdown",
   "metadata": {},
   "source": [
    "#### Créer des phrases au mauvais format"
   ]
  },
  {
   "cell_type": "code",
   "execution_count": 18,
   "metadata": {},
   "outputs": [],
   "source": [
    "invalid_sentences = generate_questions(invalid_sentences_template, 2000) # 4800"
   ]
  },
  {
   "cell_type": "code",
   "execution_count": 19,
   "metadata": {},
   "outputs": [
    {
     "name": "stdout",
     "output_type": "stream",
     "text": [
      "                                            sentence  label\n",
      "0                              Je cherche un billet.      0\n",
      "1                        Comment puis-je me rendre ?      0\n",
      "2                        Comment puis-je me rendre ?      0\n",
      "3  Le Le Breuil est magnifique au coucher du soleil.      0\n",
      "4                        Je dois aller quelque part.      0\n"
     ]
    }
   ],
   "source": [
    "data = {\n",
    "    'sentence': invalid_sentences,\n",
    "    'label': 0\n",
    "}\n",
    "df = pd.DataFrame(data)\n",
    "print(df.head())"
   ]
  },
  {
   "cell_type": "code",
   "execution_count": 20,
   "metadata": {},
   "outputs": [],
   "source": [
    "df.to_csv('invalid_sentences_train_dataset.csv', index=False, encoding='utf-8')"
   ]
  }
 ],
 "metadata": {
  "kernelspec": {
   "display_name": "Python 3",
   "language": "python",
   "name": "python3"
  },
  "language_info": {
   "codemirror_mode": {
    "name": "ipython",
    "version": 3
   },
   "file_extension": ".py",
   "mimetype": "text/x-python",
   "name": "python",
   "nbconvert_exporter": "python",
   "pygments_lexer": "ipython3",
   "version": "3.12.8"
  }
 },
 "nbformat": 4,
 "nbformat_minor": 2
}
