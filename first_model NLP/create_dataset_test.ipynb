{
 "cells": [
  {
   "cell_type": "markdown",
   "metadata": {},
   "source": [
    "### Création du dataset TEST pour le modèle NLP (CamemBERT)\n",
    "\n",
    "Création du dataset pour le premier modèle qui détermine si la phrase est au bon format ou phrase\n",
    "créer un grand dataset (que tu sépare ensuite entre entraînement et test)"
   ]
  },
  {
   "cell_type": "code",
   "execution_count": 1,
   "metadata": {},
   "outputs": [],
   "source": [
    "import pandas as pd\n",
    "import random"
   ]
  },
  {
   "cell_type": "code",
   "execution_count": 2,
   "metadata": {},
   "outputs": [
    {
     "name": "stdout",
     "output_type": "stream",
     "text": [
      "[\"L'Abergement-Clémenciat\", \"L'Abergement-de-Varey\", 'Ambérieu-en-Bugey', 'Ambérieux-en-Dombes', 'Ambléon', 'Ambronay', 'Ambutrix', 'Andert-et-Condon', 'Anglefort', 'Apremont']\n"
     ]
    }
   ],
   "source": [
    "cities_df = pd.read_csv('communes-departement-region.csv')\n",
    "cities = cities_df['nom_commune_complet'].tolist()\n",
    "print(cities[:10])"
   ]
  },
  {
   "cell_type": "code",
   "execution_count": 3,
   "metadata": {},
   "outputs": [],
   "source": [
    "valid_sentences_template = [\n",
    "    \"Je cherche un billet de {start} à {end}.\",\n",
    "    \"Comment puis-je me rendre à {end} depuis {start} ?\",\n",
    "    \"Je veux aller à {end} depuis {start}.\",\n",
    "    \"Pouvez-vous me trouver un train de {start} à {end} ?\",\n",
    "    \"Je voudrais un billet {start} {end}.\",\n",
    "    \"Me rendre à {end} avec une étape à {etape}, en partant de {start}.\",\n",
    "    \"Comment rejoindre {end} via {etape}, en partant de {start} ?\",\n",
    "    \"Trajet avec une escale à {etape} entre {start} et {end}.\",\n",
    "    \"Départ de {start}, avec un arrêt à {etape} avant {end}.\",\n",
    "    \"Comment aller à {end}, en passant par {etape}, depuis {start} ?\",\n",
    "    \"J'ai prévu de quitter {start} pour se rendre à {end} via {etape}.\",\n",
    "    \"J'ai prévu de prendre le train à {start} pour aller à {end}.\"\n",
    "]\n",
    "\n",
    "invalid_sentences_template = [\n",
    "    \"Je voudrais un billet.\",\n",
    "    \"Les spécialités culinaires régionales de {end} sont à découvrir.\",\n",
    "    \"How can I travel from {start} to {end} ?\",\n",
    "    \"Les musées de {start} abritent des œuvres d'art célèbres.\",\n",
    "    \"Je veux voyager à.\",\n",
    "    \"Pouvez-vous me trouver un train depuis {start} ?\",\n",
    "    \"Les vignobles de {start} sont réputés dans le monde entier.\",\n",
    "    \"I want to go to {end} from {start}.\",\n",
    "    \"Les maisons à colombages sont typiques de la région.\",\n",
    "    \"Je veux prendre le train pour {end}.\",\n",
    "    \"J'ai prévu de {start} se rendre à {end} via.\"\n",
    "]\n"
   ]
  },
  {
   "cell_type": "code",
   "execution_count": 4,
   "metadata": {},
   "outputs": [],
   "source": [
    "def generate_questions(templates, num_questions=2000):\n",
    "    questions = []\n",
    "    for _ in range(num_questions):\n",
    "        start = random.choice(cities)\n",
    "        end = random.choice(cities)\n",
    "        if start != end:\n",
    "            template = random.choice(templates)\n",
    "            if '{etape}' in template:\n",
    "                etape = random.choice(cities)\n",
    "                while etape == start or etape == end:\n",
    "                    etape = random.choice(cities)\n",
    "                question = template.format(start=start, end=end, etape=etape)\n",
    "            else:\n",
    "                question = template.format(start=start, end=end)\n",
    "            questions.append(question)\n",
    "    return questions"
   ]
  },
  {
   "cell_type": "markdown",
   "metadata": {},
   "source": [
    "#### Créer des phrases au bon format"
   ]
  },
  {
   "cell_type": "code",
   "execution_count": 5,
   "metadata": {},
   "outputs": [],
   "source": [
    "valid_sentences = generate_questions(valid_sentences_template, 500) # 1200"
   ]
  },
  {
   "cell_type": "code",
   "execution_count": 6,
   "metadata": {},
   "outputs": [
    {
     "name": "stdout",
     "output_type": "stream",
     "text": [
      "                                              sentence  label\n",
      "361  Comment puis-je me rendre à Luxeuil-les-Bains ...      1\n",
      "73   Pouvez-vous me trouver un train de Verrue à Adé ?      1\n",
      "374  Comment rejoindre Saint-Méard-de-Drône via Hen...      1\n",
      "155  Comment rejoindre Montourtier via Eycheil, en ...      1\n",
      "104  J'ai prévu de quitter Saint-Didier-en-Donjon p...      1\n",
      "394  J'ai prévu de quitter Montbazon pour se rendre...      1\n",
      "377  Comment rejoindre Reygade via Varennes-Saint-H...      1\n",
      "124  Trajet avec une escale à Moulins-la-Marche ent...      1\n",
      "68   J'ai prévu de prendre le train à Aussillon pou...      1\n",
      "450  Comment rejoindre Rochemaure via Aubry-le-Pant...      1\n",
      "9     Je voudrais un billet Montigny-en-Gohelle Nance.      1\n",
      "194  Trajet avec une escale à Roumazières-Loubert e...      1\n",
      "406  J'ai prévu de prendre le train à Bonneuil-en-V...      1\n",
      "84   Comment puis-je me rendre à Vergonnes depuis S...      1\n",
      "371    Je cherche un billet de Sanary-sur-Mer à Assay.      1\n",
      "388  Je veux aller à Lerzy depuis Merlieux-et-Fouqu...      1\n",
      "495  Je cherche un billet de Vilsberg à Montignac-l...      1\n",
      "30   Comment aller à Mellecey, en passant par Lavas...      1\n",
      "316  J'ai prévu de prendre le train à Santo-Pietro-...      1\n",
      "408  J'ai prévu de quitter Velleguindry-et-Levrecey...      1\n",
      "490  Me rendre à Nogent-sur-Oise avec une étape à V...      1\n",
      "491  Comment aller à Lunac, en passant par Fromerév...      1\n",
      "280  J'ai prévu de prendre le train à Vathiménil po...      1\n",
      "356  J'ai prévu de prendre le train à Saint-Médard ...      1\n",
      "76   Départ de Saint-Georges-lès-Baillargeaux, avec...      1\n",
      "461  Comment rejoindre La Haye via Noailles, en par...      1\n",
      "497  Je veux aller à Bucey-lès-Traves depuis Vire N...      1\n",
      "211  Trajet avec une escale à Lavigny entre Les Aix...      1\n",
      "101  Me rendre à Flocourt avec une étape à Maennols...      1\n",
      "334  J'ai prévu de quitter Algans pour se rendre à ...      1\n",
      "475  Je cherche un billet de Pont-Salomon à Les Bât...      1\n",
      "336  Départ de Saint-Aubin-le-Dépeint, avec un arrê...      1\n",
      "440  Me rendre à Saint-Antonin-sur-Bayon avec une é...      1\n",
      "173  Trajet avec une escale à Saint-Pair-sur-Mer en...      1\n",
      "2    Départ de Dommartin, avec un arrêt à Marcy-sou...      1\n",
      "333  Départ de Martigny-sur-l'Ante, avec un arrêt à...      1\n",
      "409  J'ai prévu de quitter Solers pour se rendre à ...      1\n",
      "70   Comment aller à Villeneuve-la-Comptal, en pass...      1\n",
      "209  Me rendre à Auzeville-Tolosane avec une étape ...      1\n",
      "63   Départ de Mérona, avec un arrêt à Le Torp-Mesn...      1\n",
      "384  Je voudrais un billet Belles-Forêts Le Grau-du...      1\n",
      "93   J'ai prévu de quitter Pompignan pour se rendre...      1\n",
      "485  Je voudrais un billet Saint-Aubin-sur-Scie Sai...      1\n",
      "185  Trajet avec une escale à Saint-Julien-Vocance ...      1\n",
      "33   Comment puis-je me rendre à Fontaine-lès-Cappy...      1\n",
      "77   Me rendre à Marmoutier avec une étape à Mâchec...      1\n",
      "0    Départ de Avrainville, avec un arrêt à Hergnie...      1\n",
      "11   Départ de Lupcourt, avec un arrêt à Rillé avan...      1\n",
      "415  Départ de Palairac, avec un arrêt à Brebières ...      1\n",
      "22   Je voudrais un billet Trévenans Germolles-sur-...      1\n"
     ]
    }
   ],
   "source": [
    "data = {\n",
    "    'sentence': valid_sentences,\n",
    "    'label': 1\n",
    "}\n",
    "df = pd.DataFrame(data)\n",
    "sample_df = df.sample(n=50, random_state=42)\n",
    "print(sample_df)"
   ]
  },
  {
   "cell_type": "code",
   "execution_count": 7,
   "metadata": {},
   "outputs": [],
   "source": [
    "df.to_csv('valid_sentences_test_dataset.csv', index=False, encoding='utf-8')"
   ]
  },
  {
   "cell_type": "markdown",
   "metadata": {},
   "source": [
    "#### Créer des phrases au mauvais format"
   ]
  },
  {
   "cell_type": "code",
   "execution_count": 8,
   "metadata": {},
   "outputs": [],
   "source": [
    "invalid_sentences = generate_questions(invalid_sentences_template, 500) # 1200"
   ]
  },
  {
   "cell_type": "code",
   "execution_count": 9,
   "metadata": {},
   "outputs": [
    {
     "name": "stdout",
     "output_type": "stream",
     "text": [
      "                                            sentence  label\n",
      "0  Les musées de Sorges et Ligueux en Périgord ab...      0\n",
      "1                                 Je veux voyager à.      0\n",
      "2  How can I travel from Quévreville-la-Poterie t...      0\n",
      "3  Pouvez-vous me trouver un train depuis La Vern...      0\n",
      "4  Les spécialités culinaires régionales de Vigne...      0\n"
     ]
    }
   ],
   "source": [
    "data = {\n",
    "    'sentence': invalid_sentences,\n",
    "    'label': 0\n",
    "}\n",
    "df = pd.DataFrame(data)\n",
    "print(df.head())"
   ]
  },
  {
   "cell_type": "code",
   "execution_count": 10,
   "metadata": {},
   "outputs": [],
   "source": [
    "df.to_csv('invalid_sentences_test_dataset.csv', index=False, encoding='utf-8')"
   ]
  }
 ],
 "metadata": {
  "kernelspec": {
   "display_name": "Python 3",
   "language": "python",
   "name": "python3"
  },
  "language_info": {
   "codemirror_mode": {
    "name": "ipython",
    "version": 3
   },
   "file_extension": ".py",
   "mimetype": "text/x-python",
   "name": "python",
   "nbconvert_exporter": "python",
   "pygments_lexer": "ipython3",
   "version": "3.12.8"
  }
 },
 "nbformat": 4,
 "nbformat_minor": 2
}
